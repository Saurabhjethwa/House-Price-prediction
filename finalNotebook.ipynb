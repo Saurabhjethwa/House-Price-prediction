{
 "cells": [
  {
   "cell_type": "code",
   "execution_count": 1,
   "metadata": {},
   "outputs": [],
   "source": [
    "import pandas as pd\n",
    "\n",
    "import numpy as np\n",
    "\n",
    "import seaborn as sns\n",
    "\n",
    "import warnings\n",
    "warnings.filterwarnings(\"ignore\")\n",
    "\n",
    "import matplotlib.pyplot as plt\n",
    "\n",
    "from sklearn.preprocessing import MinMaxScaler\n",
    "from sklearn import ensemble, tree, linear_model\n",
    "from sklearn.model_selection import train_test_split, cross_val_score\n",
    "from sklearn.metrics import r2_score, mean_squared_error\n",
    "from sklearn.utils import shuffle"
   ]
  },
  {
   "cell_type": "code",
   "execution_count": 2,
   "metadata": {},
   "outputs": [
    {
     "ename": "FileNotFoundError",
     "evalue": "File b'C:\\\\Users\\\\Polestar User\\\\Desktop\\\\housing\\\\train.csv' does not exist",
     "output_type": "error",
     "traceback": [
      "\u001b[1;31m---------------------------------------------------------------------------\u001b[0m",
      "\u001b[1;31mFileNotFoundError\u001b[0m                         Traceback (most recent call last)",
      "\u001b[1;32m<ipython-input-2-2addcbdaa901>\u001b[0m in \u001b[0;36m<module>\u001b[1;34m()\u001b[0m\n\u001b[1;32m----> 1\u001b[1;33m \u001b[0mtrain\u001b[0m \u001b[1;33m=\u001b[0m \u001b[0mpd\u001b[0m\u001b[1;33m.\u001b[0m\u001b[0mread_csv\u001b[0m\u001b[1;33m(\u001b[0m\u001b[1;34m'C:\\\\Users\\\\Polestar User\\\\Desktop\\\\housing\\\\train.csv'\u001b[0m\u001b[1;33m)\u001b[0m\u001b[1;33m\u001b[0m\u001b[0m\n\u001b[0m\u001b[0;32m      2\u001b[0m \u001b[0mtest\u001b[0m \u001b[1;33m=\u001b[0m \u001b[0mpd\u001b[0m\u001b[1;33m.\u001b[0m\u001b[0mread_csv\u001b[0m\u001b[1;33m(\u001b[0m\u001b[1;34m'C:\\\\Users\\\\Polestar User\\\\Desktop\\\\housing\\\\test.csv'\u001b[0m\u001b[1;33m)\u001b[0m\u001b[1;33m\u001b[0m\u001b[0m\n",
      "\u001b[1;32m~\\Anaconda3\\lib\\site-packages\\pandas\\io\\parsers.py\u001b[0m in \u001b[0;36mparser_f\u001b[1;34m(filepath_or_buffer, sep, delimiter, header, names, index_col, usecols, squeeze, prefix, mangle_dupe_cols, dtype, engine, converters, true_values, false_values, skipinitialspace, skiprows, nrows, na_values, keep_default_na, na_filter, verbose, skip_blank_lines, parse_dates, infer_datetime_format, keep_date_col, date_parser, dayfirst, iterator, chunksize, compression, thousands, decimal, lineterminator, quotechar, quoting, escapechar, comment, encoding, dialect, tupleize_cols, error_bad_lines, warn_bad_lines, skipfooter, doublequote, delim_whitespace, low_memory, memory_map, float_precision)\u001b[0m\n\u001b[0;32m    676\u001b[0m                     skip_blank_lines=skip_blank_lines)\n\u001b[0;32m    677\u001b[0m \u001b[1;33m\u001b[0m\u001b[0m\n\u001b[1;32m--> 678\u001b[1;33m         \u001b[1;32mreturn\u001b[0m \u001b[0m_read\u001b[0m\u001b[1;33m(\u001b[0m\u001b[0mfilepath_or_buffer\u001b[0m\u001b[1;33m,\u001b[0m \u001b[0mkwds\u001b[0m\u001b[1;33m)\u001b[0m\u001b[1;33m\u001b[0m\u001b[0m\n\u001b[0m\u001b[0;32m    679\u001b[0m \u001b[1;33m\u001b[0m\u001b[0m\n\u001b[0;32m    680\u001b[0m     \u001b[0mparser_f\u001b[0m\u001b[1;33m.\u001b[0m\u001b[0m__name__\u001b[0m \u001b[1;33m=\u001b[0m \u001b[0mname\u001b[0m\u001b[1;33m\u001b[0m\u001b[0m\n",
      "\u001b[1;32m~\\Anaconda3\\lib\\site-packages\\pandas\\io\\parsers.py\u001b[0m in \u001b[0;36m_read\u001b[1;34m(filepath_or_buffer, kwds)\u001b[0m\n\u001b[0;32m    438\u001b[0m \u001b[1;33m\u001b[0m\u001b[0m\n\u001b[0;32m    439\u001b[0m     \u001b[1;31m# Create the parser.\u001b[0m\u001b[1;33m\u001b[0m\u001b[1;33m\u001b[0m\u001b[0m\n\u001b[1;32m--> 440\u001b[1;33m     \u001b[0mparser\u001b[0m \u001b[1;33m=\u001b[0m \u001b[0mTextFileReader\u001b[0m\u001b[1;33m(\u001b[0m\u001b[0mfilepath_or_buffer\u001b[0m\u001b[1;33m,\u001b[0m \u001b[1;33m**\u001b[0m\u001b[0mkwds\u001b[0m\u001b[1;33m)\u001b[0m\u001b[1;33m\u001b[0m\u001b[0m\n\u001b[0m\u001b[0;32m    441\u001b[0m \u001b[1;33m\u001b[0m\u001b[0m\n\u001b[0;32m    442\u001b[0m     \u001b[1;32mif\u001b[0m \u001b[0mchunksize\u001b[0m \u001b[1;32mor\u001b[0m \u001b[0miterator\u001b[0m\u001b[1;33m:\u001b[0m\u001b[1;33m\u001b[0m\u001b[0m\n",
      "\u001b[1;32m~\\Anaconda3\\lib\\site-packages\\pandas\\io\\parsers.py\u001b[0m in \u001b[0;36m__init__\u001b[1;34m(self, f, engine, **kwds)\u001b[0m\n\u001b[0;32m    785\u001b[0m             \u001b[0mself\u001b[0m\u001b[1;33m.\u001b[0m\u001b[0moptions\u001b[0m\u001b[1;33m[\u001b[0m\u001b[1;34m'has_index_names'\u001b[0m\u001b[1;33m]\u001b[0m \u001b[1;33m=\u001b[0m \u001b[0mkwds\u001b[0m\u001b[1;33m[\u001b[0m\u001b[1;34m'has_index_names'\u001b[0m\u001b[1;33m]\u001b[0m\u001b[1;33m\u001b[0m\u001b[0m\n\u001b[0;32m    786\u001b[0m \u001b[1;33m\u001b[0m\u001b[0m\n\u001b[1;32m--> 787\u001b[1;33m         \u001b[0mself\u001b[0m\u001b[1;33m.\u001b[0m\u001b[0m_make_engine\u001b[0m\u001b[1;33m(\u001b[0m\u001b[0mself\u001b[0m\u001b[1;33m.\u001b[0m\u001b[0mengine\u001b[0m\u001b[1;33m)\u001b[0m\u001b[1;33m\u001b[0m\u001b[0m\n\u001b[0m\u001b[0;32m    788\u001b[0m \u001b[1;33m\u001b[0m\u001b[0m\n\u001b[0;32m    789\u001b[0m     \u001b[1;32mdef\u001b[0m \u001b[0mclose\u001b[0m\u001b[1;33m(\u001b[0m\u001b[0mself\u001b[0m\u001b[1;33m)\u001b[0m\u001b[1;33m:\u001b[0m\u001b[1;33m\u001b[0m\u001b[0m\n",
      "\u001b[1;32m~\\Anaconda3\\lib\\site-packages\\pandas\\io\\parsers.py\u001b[0m in \u001b[0;36m_make_engine\u001b[1;34m(self, engine)\u001b[0m\n\u001b[0;32m   1012\u001b[0m     \u001b[1;32mdef\u001b[0m \u001b[0m_make_engine\u001b[0m\u001b[1;33m(\u001b[0m\u001b[0mself\u001b[0m\u001b[1;33m,\u001b[0m \u001b[0mengine\u001b[0m\u001b[1;33m=\u001b[0m\u001b[1;34m'c'\u001b[0m\u001b[1;33m)\u001b[0m\u001b[1;33m:\u001b[0m\u001b[1;33m\u001b[0m\u001b[0m\n\u001b[0;32m   1013\u001b[0m         \u001b[1;32mif\u001b[0m \u001b[0mengine\u001b[0m \u001b[1;33m==\u001b[0m \u001b[1;34m'c'\u001b[0m\u001b[1;33m:\u001b[0m\u001b[1;33m\u001b[0m\u001b[0m\n\u001b[1;32m-> 1014\u001b[1;33m             \u001b[0mself\u001b[0m\u001b[1;33m.\u001b[0m\u001b[0m_engine\u001b[0m \u001b[1;33m=\u001b[0m \u001b[0mCParserWrapper\u001b[0m\u001b[1;33m(\u001b[0m\u001b[0mself\u001b[0m\u001b[1;33m.\u001b[0m\u001b[0mf\u001b[0m\u001b[1;33m,\u001b[0m \u001b[1;33m**\u001b[0m\u001b[0mself\u001b[0m\u001b[1;33m.\u001b[0m\u001b[0moptions\u001b[0m\u001b[1;33m)\u001b[0m\u001b[1;33m\u001b[0m\u001b[0m\n\u001b[0m\u001b[0;32m   1015\u001b[0m         \u001b[1;32melse\u001b[0m\u001b[1;33m:\u001b[0m\u001b[1;33m\u001b[0m\u001b[0m\n\u001b[0;32m   1016\u001b[0m             \u001b[1;32mif\u001b[0m \u001b[0mengine\u001b[0m \u001b[1;33m==\u001b[0m \u001b[1;34m'python'\u001b[0m\u001b[1;33m:\u001b[0m\u001b[1;33m\u001b[0m\u001b[0m\n",
      "\u001b[1;32m~\\Anaconda3\\lib\\site-packages\\pandas\\io\\parsers.py\u001b[0m in \u001b[0;36m__init__\u001b[1;34m(self, src, **kwds)\u001b[0m\n\u001b[0;32m   1706\u001b[0m         \u001b[0mkwds\u001b[0m\u001b[1;33m[\u001b[0m\u001b[1;34m'usecols'\u001b[0m\u001b[1;33m]\u001b[0m \u001b[1;33m=\u001b[0m \u001b[0mself\u001b[0m\u001b[1;33m.\u001b[0m\u001b[0musecols\u001b[0m\u001b[1;33m\u001b[0m\u001b[0m\n\u001b[0;32m   1707\u001b[0m \u001b[1;33m\u001b[0m\u001b[0m\n\u001b[1;32m-> 1708\u001b[1;33m         \u001b[0mself\u001b[0m\u001b[1;33m.\u001b[0m\u001b[0m_reader\u001b[0m \u001b[1;33m=\u001b[0m \u001b[0mparsers\u001b[0m\u001b[1;33m.\u001b[0m\u001b[0mTextReader\u001b[0m\u001b[1;33m(\u001b[0m\u001b[0msrc\u001b[0m\u001b[1;33m,\u001b[0m \u001b[1;33m**\u001b[0m\u001b[0mkwds\u001b[0m\u001b[1;33m)\u001b[0m\u001b[1;33m\u001b[0m\u001b[0m\n\u001b[0m\u001b[0;32m   1709\u001b[0m \u001b[1;33m\u001b[0m\u001b[0m\n\u001b[0;32m   1710\u001b[0m         \u001b[0mpassed_names\u001b[0m \u001b[1;33m=\u001b[0m \u001b[0mself\u001b[0m\u001b[1;33m.\u001b[0m\u001b[0mnames\u001b[0m \u001b[1;32mis\u001b[0m \u001b[1;32mNone\u001b[0m\u001b[1;33m\u001b[0m\u001b[0m\n",
      "\u001b[1;32mpandas\\_libs\\parsers.pyx\u001b[0m in \u001b[0;36mpandas._libs.parsers.TextReader.__cinit__\u001b[1;34m()\u001b[0m\n",
      "\u001b[1;32mpandas\\_libs\\parsers.pyx\u001b[0m in \u001b[0;36mpandas._libs.parsers.TextReader._setup_parser_source\u001b[1;34m()\u001b[0m\n",
      "\u001b[1;31mFileNotFoundError\u001b[0m: File b'C:\\\\Users\\\\Polestar User\\\\Desktop\\\\housing\\\\train.csv' does not exist"
     ]
    }
   ],
   "source": [
    "train = pd.read_csv('C:\\\\Users\\\\Polestar User\\\\Desktop\\\\housing\\\\train.csv')\n",
    "test = pd.read_csv('C:\\\\Users\\\\Polestar User\\\\Desktop\\\\housing\\\\test.csv')"
   ]
  },
  {
   "cell_type": "code",
   "execution_count": 29,
   "metadata": {},
   "outputs": [],
   "source": [
    "data = train.append(test)"
   ]
  },
  {
   "cell_type": "code",
   "execution_count": 30,
   "metadata": {},
   "outputs": [],
   "source": [
    "############# Numerical Features\n",
    "\n",
    "numerical = data.select_dtypes(include = ['float64', 'int64'])\n",
    "\n",
    "############# Categorical features\n",
    "\n",
    "category = data.select_dtypes(include = ['O'])"
   ]
  },
  {
   "cell_type": "code",
   "execution_count": 32,
   "metadata": {},
   "outputs": [
    {
     "data": {
      "text/plain": [
       "<matplotlib.axes._subplots.AxesSubplot at 0x2b3aa4199e8>"
      ]
     },
     "execution_count": 32,
     "metadata": {},
     "output_type": "execute_result"
    },
    {
     "data": {
      "image/png": "[encoded data removed]",
      "text/plain": [
       "<Figure size 432x288 with 1 Axes>"
      ]
     },
     "metadata": {},
     "output_type": "display_data"
    }
   ],
   "source": [
    "num=numerical.isna().sum()\n",
    "plt.style.use('ggplot')\n",
    "num.T.plot(kind='bar')"
   ]
  },
  {
   "cell_type": "code",
   "execution_count": 33,
   "metadata": {},
   "outputs": [
    {
     "data": {
      "text/plain": [
       "<matplotlib.axes._subplots.AxesSubplot at 0x2b3ab5fb390>"
      ]
     },
     "execution_count": 33,
     "metadata": {},
     "output_type": "execute_result"
    },
    {
     "data": {
      "image/png": "[encoded data removed]",
      "text/plain": [
       "<Figure size 432x288 with 1 Axes>"
      ]
     },
     "metadata": {},
     "output_type": "display_data"
    }
   ],
   "source": [
    "cat=category.isna().sum()\n",
    "plt.style.use('ggplot')\n",
    "cat.T.plot(kind='bar')"
   ]
  },
  {
   "cell_type": "code",
   "execution_count": 34,
   "metadata": {},
   "outputs": [],
   "source": [
    "### FILLING MISSING VALUES\n",
    "\n",
    "mean_mva=data['MasVnrArea'].mean()\n",
    "numerical['MasVnrArea']=numerical['MasVnrArea'].fillna(mean_mva)\n",
    "\n",
    "\n",
    "mean_frontage=numerical['LotFrontage'].mean()\n",
    "numerical['LotFrontage']=numerical['LotFrontage'].fillna(mean_frontage)\n",
    "\n",
    "numerical['GarageYrBlt'] = numerical['GarageYrBlt'].fillna(0)"
   ]
  },
  {
   "cell_type": "code",
   "execution_count": 35,
   "metadata": {},
   "outputs": [],
   "source": [
    "### Deleting columns having high number of missing values from categorical\n",
    "\n",
    "del category['PoolQC']\n",
    "del category['Fence']\n",
    "del category['MiscFeature']\n",
    "del category['Alley']\n",
    "del category['FireplaceQu']"
   ]
  },
  {
   "cell_type": "code",
   "execution_count": 36,
   "metadata": {},
   "outputs": [],
   "source": [
    "#### Filling missing values from categorical\n",
    "\n",
    "\n",
    "for col in ('GarageType', 'GarageFinish', 'GarageQual','GarageCond'):\n",
    "    category[col] = category[col].fillna('NoGRG')\n",
    "    \n",
    "    \n",
    "for col in ('BsmtQual', 'BsmtCond', 'BsmtExposure', 'BsmtFinType1', 'BsmtFinType2'):\n",
    "    category[col] = category[col].fillna('NoBSMT')\n",
    "    \n",
    "category['MasVnrType'] = category['MasVnrType'].fillna(category['MasVnrType'].mode()[0])\n",
    "\n",
    "category['MSZoning'] = category['MSZoning'].fillna(category['MSZoning'].mode()[0])\n",
    "\n",
    "category['Electrical'] = category['Electrical'].fillna(category['Electrical'].mode()[0])\n",
    "\n",
    "category['Exterior1st'] = category['Exterior1st'].fillna('VinylSd')\n",
    "\n",
    "category['Exterior2nd'] = category['Exterior2nd'].fillna('VinylSd')\n",
    "\n",
    "category['Functional'] = category['Functional'].fillna('Typ')\n",
    "\n",
    "category['SaleType'] = category['SaleType'].fillna('WD')\n",
    "\n",
    "category['Utilities'] = category['Utilities'].fillna('AllPub')\n",
    "\n",
    "category['KitchenQual'] = category['KitchenQual'].fillna('Gd')\n"
   ]
  },
  {
   "cell_type": "code",
   "execution_count": 37,
   "metadata": {},
   "outputs": [],
   "source": [
    "###### Feature Engineering\n",
    "\n",
    "numerical['Age']=numerical['YrSold'] - numerical['YearBuilt']\n",
    "\n",
    "numerical['Porch'] =  (numerical['OpenPorchSF']+numerical['EnclosedPorch']+numerical['ScreenPorch']+numerical['3SsnPorch'])/4\n",
    "\n",
    "numerical['TotalBath']=numerical['FullBath']+numerical['HalfBath']\n",
    "\n",
    "numerical['TotalSF'] = numerical['TotalBsmtSF'] + numerical['1stFlrSF'] + numerical['2ndFlrSF']\n",
    "\n"
   ]
  },
  {
   "cell_type": "code",
   "execution_count": 39,
   "metadata": {},
   "outputs": [],
   "source": [
    "df1 = numerical['SalePrice'].groupby(category['Neighborhood']).mean()\n",
    "\n",
    "df2 = data['GrLivArea'].groupby(data['Neighborhood']).mean()\n",
    "\n",
    "df3 = df1/df2\n",
    "\n",
    "allDict = {'Blmngtn':136.469825,\n",
    "'Blueste':98.743268,\n",
    "'BrDale':91.405609,\n",
    "'BrkSide':103.763006,\n",
    "'ClearCr':118.877344,\n",
    "'CollgCr':133.715484,\n",
    "'Crawfor':117.561846,\n",
    "'Edwards':95.683487,\n",
    "'Gilbert':117.499892,\n",
    "'IDOTRR':87.651248,\n",
    "'MeadowV':93.089657,\n",
    "'Mitchel':120.746121,\n",
    "'NAmes':111.307215,\n",
    "'NPkVill':113.882238,\n",
    "'NWAmes':109.417853,\n",
    "'NoRidge':133.644829,\n",
    "'NridgHt':165.072651,\n",
    "'OldTown':86.654779,\n",
    "'SWISU':79.162888,\n",
    "'Sawyer':112.574422,\n",
    "'SawyerW':116.961639,\n",
    "'Somerst':141.157845,\n",
    "'StoneBr':165.239905,\n",
    "'Timber':138.477089,\n",
    "'Veenker':155.083845}\n",
    "\n",
    "\n",
    "numerical['PricePSF'] = category['Neighborhood'].copy()\n",
    "\n",
    "\n",
    "numerical[\"PricePSF\"].replace(allDict, inplace=True)"
   ]
  },
  {
   "cell_type": "code",
   "execution_count": 40,
   "metadata": {},
   "outputs": [],
   "source": [
    "Allfeatures = pd.concat([numerical,category],axis=1)\n",
    "\n",
    "\n",
    "####\n",
    "\n",
    "Allfeatures.drop(['Utilities', 'RoofMatl', 'BsmtFinSF1', 'BsmtFinSF2', 'BsmtUnfSF', 'Heating', 'LowQualFinSF',\n",
    "               'BsmtFullBath', 'BsmtHalfBath', 'Functional', 'GarageYrBlt', 'GarageArea', 'GarageCond', 'WoodDeckSF',\n",
    "               'OpenPorchSF', 'EnclosedPorch', '3SsnPorch', 'ScreenPorch', 'PoolArea', 'MiscVal'],\n",
    "              axis=1, inplace=True)\n",
    "\n",
    "\n",
    "Allfeatures['TotalSF'] = Allfeatures['TotalSF'].fillna(800)"
   ]
  },
  {
   "cell_type": "code",
   "execution_count": 43,
   "metadata": {},
   "outputs": [],
   "source": [
    "del Allfeatures['SalePrice']\n",
    "del Allfeatures['Condition2']\n",
    "del Allfeatures['Electrical']\n",
    "del Allfeatures['Exterior1st']\n",
    "del Allfeatures['Exterior2nd']\n",
    "del Allfeatures['HouseStyle']\n",
    "del Allfeatures['GarageQual']"
   ]
  },
  {
   "cell_type": "code",
   "execution_count": 47,
   "metadata": {},
   "outputs": [],
   "source": [
    "Allfeatures['GarageCars'] = Allfeatures['GarageCars'].fillna(2)\n",
    "Allfeatures['TotalBsmtSF'] = Allfeatures['TotalBsmtSF'].fillna(800)"
   ]
  },
  {
   "cell_type": "code",
   "execution_count": 48,
   "metadata": {},
   "outputs": [],
   "source": [
    "numeric_features = [f for f in Allfeatures.columns if Allfeatures[f].dtype != object]\n",
    "\n",
    "scaler = MinMaxScaler()\n",
    "o=scaler.fit(Allfeatures[numeric_features])\n",
    "scaled = scaler.transform(Allfeatures[numeric_features])\n",
    "\n",
    "for i, col in enumerate(numeric_features):\n",
    "       Allfeatures[col] = scaled[:,i]"
   ]
  },
  {
   "cell_type": "code",
   "execution_count": 2,
   "metadata": {},
   "outputs": [],
   "source": [
    "def get_score(prediction, lables):    \n",
    "    print('R2: {}'.format(r2_score(prediction, lables)))\n",
    "    print('RMSE: {}'.format(np.sqrt(mean_squared_error(prediction, lables))))\n",
    "\n",
    "# Shows scores for train and validation sets    \n",
    "def train_test(estimator, x_trn, x_tst, y_trn, y_tst):\n",
    "    prediction_train = estimator.predict(x_trn)\n",
    "    # Printing estimator\n",
    "    print(estimator)\n",
    "    # Printing train scores\n",
    "    get_score(prediction_train, y_trn)\n",
    "    prediction_test = estimator.predict(x_tst)\n",
    "    # Printing test scores\n",
    "    print(\"Test\")\n",
    "    get_score(prediction_test, y_tst)"
   ]
  },
  {
   "cell_type": "code",
   "execution_count": 49,
   "metadata": {},
   "outputs": [],
   "source": [
    "train1 = Allfeatures[0:1460]\n",
    "test1 = Allfeatures[1460:]"
   ]
  },
  {
   "cell_type": "code",
   "execution_count": 16,
   "metadata": {},
   "outputs": [],
   "source": [
    "X = pd.read_csv(\"C:\\\\Users\\\\Polestar User\\\\Documents\\\\regression\\\\HouseProblem\\\\rehousing\\\\attachments00\\\\new_train2.csv\")\n",
    "\n",
    "test = pd.read_csv('C:\\\\Users\\\\Polestar User\\\\Documents\\\\regression\\\\HouseProblem\\\\rehousing\\\\attachments00\\\\new_test2.csv') ## remove\n",
    "\n",
    "y = X['SalePrice']\n",
    "\n",
    "del X['SalePrice']"
   ]
  },
  {
   "cell_type": "code",
   "execution_count": 50,
   "metadata": {},
   "outputs": [],
   "source": [
    "X = train1.copy()\n",
    "\n",
    "y = train['SalePrice']\n",
    "\n",
    "\n",
    "X = pd.get_dummies(X)\n",
    "\n",
    "test1 = pd.get_dummies(test1)\n",
    "\n",
    "y = np.log(y)"
   ]
  },
  {
   "cell_type": "code",
   "execution_count": null,
   "metadata": {},
   "outputs": [],
   "source": [
    "regr = linear_model.LinearRegression()\n",
    "regr.fit(X,y)\n",
    "\n",
    "pred = regr.predict(test1)\n",
    "\n",
    "predtest=np.exp(pred)"
   ]
  },
  {
   "cell_type": "code",
   "execution_count": 19,
   "metadata": {},
   "outputs": [],
   "source": [
    "x_train, x_test, y_train, y_test = train_test_split(X, y, test_size=0.1, random_state=200)\n"
   ]
  },
  {
   "cell_type": "code",
   "execution_count": 20,
   "metadata": {},
   "outputs": [
    {
     "data": {
      "text/plain": [
       "LinearRegression(copy_X=True, fit_intercept=True, n_jobs=1, normalize=False)"
      ]
     },
     "execution_count": 20,
     "metadata": {},
     "output_type": "execute_result"
    }
   ],
   "source": [
    "regr = linear_model.LinearRegression()\n",
    "regr.fit(X,y)"
   ]
  },
  {
   "cell_type": "code",
   "execution_count": 21,
   "metadata": {},
   "outputs": [
    {
     "name": "stdout",
     "output_type": "stream",
     "text": [
      "LinearRegression(copy_X=True, fit_intercept=True, n_jobs=1, normalize=False)\n",
      "R2: 0.9530034908188395\n",
      "RMSE: 0.029283096970713747\n",
      "Test\n",
      "R2: 0.9192094934123508\n",
      "RMSE: 0.03499912437218976\n"
     ]
    }
   ],
   "source": [
    "train_test(regr, x_train, x_test, y_train, y_test)"
   ]
  },
  {
   "cell_type": "code",
   "execution_count": 23,
   "metadata": {},
   "outputs": [
    {
     "name": "stdout",
     "output_type": "stream",
     "text": [
      "Accuracy: -92.51 (+/- 348.45)\n"
     ]
    }
   ],
   "source": [
    "scores = cross_val_score(regr, X, y, cv=5)\n",
    "print(\"Accuracy: %0.2f (+/- %0.2f)\" % (scores.mean(), scores.std() * 2))"
   ]
  },
  {
   "cell_type": "code",
   "execution_count": 54,
   "metadata": {},
   "outputs": [],
   "source": [
    "sub1 = pd.DataFrame()\n",
    "sub1['Id'] = test['Id']\n",
    "sub1['SalePrice'] = predtest\n",
    "sub1.to_csv('C:\\\\Users\\\\Polestar User\\\\Desktop\\\\finalsubmit\\\\submission2.csv',index=False)\n"
   ]
  },
  {
   "cell_type": "code",
   "execution_count": 55,
   "metadata": {},
   "outputs": [],
   "source": [
    "#Score = 0.13771 Kaggle Rank = 2225"
   ]
  },
  {
   "cell_type": "code",
   "execution_count": 56,
   "metadata": {},
   "outputs": [],
   "source": [
    "#######Second Model#########\n",
    "\n",
    "from sklearn.linear_model import Lasso\n",
    "from sklearn.linear_model import LassoCV\n",
    "from sklearn.feature_selection import SelectFromModel\n",
    "lasso = LassoCV(alphas=[0.001,.0001,.0015],cv=10,random_state = 1).fit(X,y)\n",
    "\n",
    "lasso.score(X,y)\n",
    "\n",
    "lasso.alpha_\n",
    "\n",
    "lasso.coef_\n",
    "\n",
    "predtest = lasso.predict(test1)\n",
    "predtest=np.exp(predtest)\n",
    "\n",
    "sub1 = pd.DataFrame()\n",
    "sub1['Id'] = test['Id']\n",
    "sub1['SalePrice'] = predtest\n",
    "sub1.to_csv('C:\\\\Users\\\\Polestar User\\\\Desktop\\\\finalsubmit\\\\submission3.csv',index=False)\n",
    "\n"
   ]
  },
  {
   "cell_type": "code",
   "execution_count": 57,
   "metadata": {},
   "outputs": [],
   "source": [
    "#Score = 0.13443 , Kaggle Rank = 2007"
   ]
  },
  {
   "cell_type": "code",
   "execution_count": 58,
   "metadata": {},
   "outputs": [],
   "source": [
    "####### Third Model ################\n",
    "\n",
    "ENSTest = linear_model.ElasticNetCV(alphas=[0.0001, 0.0005, 0.001, 0.01, 0.1, 1, 10], l1_ratio=[.01, .1, .5, .9, .99], cv=10,max_iter=5000).fit(X,y)\n",
    "\n",
    "ENSTest.alpha_\n",
    "\n",
    "predtest = ENSTest.predict(test1)\n",
    "predtest=np.exp(predtest)\n",
    "\n",
    "sub1 = pd.DataFrame()\n",
    "sub1['Id'] = test['Id']\n",
    "sub1['SalePrice'] = predtest\n",
    "sub1.to_csv('C:\\\\Users\\\\Polestar User\\\\Desktop\\\\finalsubmit\\\\submission5.csv',index=False)"
   ]
  },
  {
   "cell_type": "code",
   "execution_count": 59,
   "metadata": {},
   "outputs": [],
   "source": [
    "#Score = 0.13204 , kaggle Rank = 1840"
   ]
  },
  {
   "cell_type": "code",
   "execution_count": null,
   "metadata": {},
   "outputs": [],
   "source": [
    "###### Forth Model ################\n",
    "\n",
    "GBest = ensemble.GradientBoostingRegressor(n_estimators=3000, learning_rate=0.05, max_depth=3, max_features='sqrt',\n",
    "                                               min_samples_leaf=15, min_samples_split=10, loss='huber').fit(X, y)\n",
    "\n",
    "predtest = GBest.predict(test1)\n",
    "predtest=np.exp(predtest)\n",
    "\n",
    "sub1 = pd.DataFrame()\n",
    "sub1['Id'] = test['Id']\n",
    "sub1['SalePrice'] = predtest\n",
    "sub1.to_csv('C:\\\\Users\\\\Polestar User\\\\Desktop\\\\finalsubmit\\\\submission6.csv',index=False)\n"
   ]
  },
  {
   "cell_type": "code",
   "execution_count": null,
   "metadata": {},
   "outputs": [],
   "source": [
    "#score = 0.12254 , Kaggle Rank = 1217"
   ]
  },
  {
   "cell_type": "code",
   "execution_count": null,
   "metadata": {},
   "outputs": [],
   "source": [
    "####### model 5 by stacking ###########\n",
    "\n",
    "GB_model = GBest.fit(X, y)\n",
    "ENST_model = ENSTest.fit(X, y)\n",
    "\n",
    "\n",
    "Final_labels = (np.exp(GB_model.predict(test1)) + np.exp(ENST_model.predict(test1))) / 2\n",
    "\n",
    "sub1 = pd.DataFrame()\n",
    "sub1['Id'] = test['Id']\n",
    "sub1['SalePrice'] = Final_labels\n",
    "sub1.to_csv('C:\\\\Users\\\\Polestar User\\\\Desktop\\\\finalsubmit\\\\submission7.csv',index=False)\n"
   ]
  },
  {
   "cell_type": "code",
   "execution_count": null,
   "metadata": {},
   "outputs": [],
   "source": [
    "#Score = 0.12211, Kaggle rank = 1176"
   ]
  },
  {
   "cell_type": "code",
   "execution_count": null,
   "metadata": {},
   "outputs": [],
   "source": []
  },
  {
   "cell_type": "code",
   "execution_count": 1,
   "metadata": {},
   "outputs": [],
   "source": [
    "######################################################################################################################"
   ]
  },
  {
   "cell_type": "code",
   "execution_count": null,
   "metadata": {},
   "outputs": [],
   "source": [
    "                                             # Final Model        "
   ]
  },
  {
   "cell_type": "code",
   "execution_count": null,
   "metadata": {},
   "outputs": [],
   "source": [
    "######################################################################################################################"
   ]
  },
  {
   "cell_type": "code",
   "execution_count": 3,
   "metadata": {},
   "outputs": [],
   "source": [
    "train = pd.read_csv(\"C:\\\\Users\\\\Polestar User\\\\Desktop\\\\data2train.csv\")\n",
    "test = pd.read_csv(\"C:\\\\Users\\\\Polestar User\\\\Desktop\\\\data2test.csv\")\n"
   ]
  },
  {
   "cell_type": "code",
   "execution_count": null,
   "metadata": {},
   "outputs": [],
   "source": [
    "train.drop(train[train[\"GrLivArea\"] > 4000].index, inplace=True)"
   ]
  },
  {
   "cell_type": "code",
   "execution_count": null,
   "metadata": {},
   "outputs": [],
   "source": [
    "data = train.append(test)"
   ]
  },
  {
   "cell_type": "code",
   "execution_count": null,
   "metadata": {},
   "outputs": [],
   "source": [
    "qual_dict = {None: 0, \"Po\": 1, \"Fa\": 2, \"TA\": 3, \"Gd\": 4, \"Ex\": 5}\n",
    "\n",
    "data[\"ExterQual\"] = df[\"ExterQual\"].map(qual_dict).astype(int)\n",
    "data[\"ExterCond\"] = df[\"ExterCond\"].map(qual_dict).astype(int)\n",
    "data[\"BsmtQual\"] = df[\"BsmtQual\"].map(qual_dict).astype(int)\n",
    "data[\"BsmtCond\"] = df[\"BsmtCond\"].map(qual_dict).astype(int)\n",
    "data[\"HeatingQC\"] = df[\"HeatingQC\"].map(qual_dict).astype(int)\n",
    "data[\"KitchenQual\"] = df[\"KitchenQual\"].map(qual_dict).astype(int)\n",
    "data[\"FireplaceQu\"] = df[\"FireplaceQu\"].map(qual_dict).astype(int)\n",
    "data[\"GarageQual\"] = df[\"GarageQual\"].map(qual_dict).astype(int)\n",
    "data[\"GarageCond\"] = df[\"GarageCond\"].map(qual_dict).astype(int)\n",
    "\n",
    "data[\"BsmtExposure\"] = df[\"BsmtExposure\"].map({None: 0, \"No\": 1, \"Mn\": 2, \"Av\": 3, \"Gd\": 4}).astype(int)\n",
    "\n",
    "data[\"Functional\"] = df[\"Functional\"].map({None: 0, \"Sal\": 1, \"Sev\": 2, \"Maj2\": 3, \"Maj1\": 4, \"Mod\": 5, \"Min2\": 6, \"Min1\": 7, \"Typ\": 8}).astype(int)\n",
    "\n",
    "data[\"GarageFinish\"] = df[\"GarageFinish\"].map({None: 0, \"Unf\": 1, \"RFn\": 2, \"Fin\": 3}).astype(int)\n",
    "\n",
    "data[\"Fence\"] = df[\"Fence\"].map({None: 0, \"MnWw\": 1, \"GdWo\": 2, \"MnPrv\": 3, \"GdPrv\": 4}).astype(int)\n"
   ]
  },
  {
   "cell_type": "code",
   "execution_count": null,
   "metadata": {},
   "outputs": [],
   "source": [
    "from sklearn.preprocessing import LabelEncoder\n",
    "le = LabelEncoder()\n",
    "\n",
    "def factorize(df, factor_df, column, fill_na=None):\n",
    "    factor_df[column] = df[column]\n",
    "    if fill_na is not None:\n",
    "        factor_df[column].fillna(fill_na, inplace=True)\n",
    "    le.fit(factor_df[column].unique())\n",
    "    factor_df[column] = le.transform(factor_df[column])\n",
    "    return factor_df\n",
    "\n",
    "\n",
    "data = factorize(df, data, \"MSSubClass\")\n",
    "data = factorize(df, data, \"MSZoning\", \"RL\")\n",
    "data = factorize(df, data, \"LotConfig\")\n",
    "data = factorize(df, data, \"Neighborhood\")\n",
    "data = factorize(df, data, \"Condition1\")\n",
    "data = factorize(df, data, \"BldgType\")\n",
    "data = factorize(df, data, \"HouseStyle\")\n",
    "data = factorize(df, data, \"RoofStyle\")\n",
    "data = factorize(df, data, \"Exterior1st\", \"Other\")\n",
    "data = factorize(df, data, \"Exterior2nd\", \"Other\")\n",
    "data = factorize(df, data, \"MasVnrType\", \"None\")\n",
    "data = factorize(df, data, \"Foundation\")\n",
    "data = factorize(df, data, \"SaleType\", \"Oth\")\n",
    "data = factorize(df, data, \"SaleCondition\")"
   ]
  },
  {
   "cell_type": "code",
   "execution_count": null,
   "metadata": {},
   "outputs": [],
   "source": [
    "data[\"IsRegularLotShape\"] = (df[\"LotShape\"] == \"Reg\") * 1\n",
    "data[\"IsLandLevel\"] = (df[\"LandContour\"] == \"Lvl\") * 1\n",
    "data[\"IsLandSlopeGentle\"] = (df[\"LandSlope\"] == \"Gtl\") * 1\n",
    "data[\"IsElectricalSBrkr\"] = (df[\"Electrical\"] == \"SBrkr\") * 1\n",
    "data[\"IsGarageDetached\"] = (df[\"GarageType\"] == \"Detchd\") * 1\n",
    "data[\"IsPavedDrive\"] = (df[\"PavedDrive\"] == \"Y\") * 1\n",
    "data[\"HasShed\"] = (df[\"MiscFeature\"] == \"Shed\") * 1.  \n",
    "data[\"Remodeled\"] = (all_df[\"YearRemodAdd\"] != all_df[\"YearBuilt\"]) * 1\n",
    "data[\"RecentRemodel\"] = (all_df[\"YearRemodAdd\"] == all_df[\"YrSold\"]) * 1\n",
    "data[\"VeryNewHouse\"] = (all_df[\"YearBuilt\"] == all_df[\"YrSold\"]) * 1"
   ]
  },
  {
   "cell_type": "code",
   "execution_count": null,
   "metadata": {},
   "outputs": [],
   "source": [
    "data[\"HighSeason\"] = df[\"MoSold\"].replace( {1: 0, 2: 0, 3: 0, 4: 1, 5: 1, 6: 1, 7: 1, 8: 0, 9: 0, 10: 0, 11: 0, 12: 0})\n",
    "\n",
    "data[\"Age\"] = 2010 - all_df[\"YearBuilt\"]\n",
    "\n",
    "data[\"BadHeating\"] = df.HeatingQC.replace({'Ex': 0, 'Gd': 0, 'TA': 0, 'Fa': 1, 'Po': 1})\n",
    "\n",
    "data[\"TotalArea1st2nd\"] = data[\"1stFlrSF\"] + data[\"2ndFlrSF\"]\n"
   ]
  },
  {
   "cell_type": "code",
   "execution_count": null,
   "metadata": {},
   "outputs": [],
   "source": [
    "data[\"SimplOverallQual\"] = data.OverallQual.replace({1 : 1, 2 : 1, 3 : 1, 4 : 2, 5 : 2, 6 : 2, 7 : 3, 8 : 3, 9 : 3, 10 : 3})\n",
    "\n",
    "data[\"SimplOverallCond\"] = data.OverallCond.replace({1 : 1, 2 : 1, 3 : 1, 4 : 2, 5 : 2, 6 : 2, 7 : 3, 8 : 3, 9 : 3, 10 : 3})\n",
    "\n",
    "data[\"SimplPoolQC\"] = data.PoolQC.replace({1 : 1, 2 : 1, 3 : 2, 4 : 2})\n",
    "\n",
    "data[\"SimplGarageCond\"] = data.GarageCond.replace({1 : 1, 2 : 1, 3 : 1, 4 : 2, 5 : 2})\n",
    "\n",
    "data[\"SimplGarageQual\"] = data.GarageQual.replace({1 : 1, 2 : 1, 3 : 1, 4 : 2, 5 : 2})\n",
    "\n",
    "data[\"SimplFireplaceQu\"] = data.FireplaceQu.replace({1 : 1, 2 : 1, 3 : 1, 4 : 2, 5 : 2})\n",
    "\n",
    "data[\"SimplFireplaceQu\"] = data.FireplaceQu.replace({1 : 1, 2 : 1, 3 : 1, 4 : 2, 5 : 2})\n",
    "\n",
    "data[\"SimplFunctional\"] = data.Functional.replace({1 : 1, 2 : 1, 3 : 2, 4 : 2, 5 : 3, 6 : 3, 7 : 3, 8 : 4})\n",
    "\n",
    "data[\"SimplKitchenQual\"] = data.KitchenQual.replace({1 : 1, 2 : 1, 3 : 1, 4 : 2, 5 : 2})\n",
    "\n",
    "data[\"SimplHeatingQC\"] = data.HeatingQC.replace({1 : 1, 2 : 1, 3 : 1, 4 : 2, 5 : 2})\n",
    "\n",
    "data[\"SimplBsmtFinType1\"] = data.BsmtFinType1.replace({1 : 1, 2 : 1, 3 : 1, 4 : 2, 5 : 2, 6 : 2})\n",
    "\n",
    "data[\"SimplBsmtFinType2\"] = data.BsmtFinType2.replace({1 : 1, 2 : 1, 3 : 1, 4 : 2, 5 : 2, 6 : 2})\n",
    "\n",
    "data[\"SimplBsmtCond\"] = data.BsmtCond.replace({1 : 1, 2 : 1, 3 : 1, 4 : 2, 5 : 2})\n",
    "\n",
    "data[\"SimplBsmtQual\"] = data.BsmtQual.replace({1 : 1, 2 : 1, 3 : 1, 4 : 2, 5 : 2})"
   ]
  },
  {
   "cell_type": "code",
   "execution_count": null,
   "metadata": {},
   "outputs": [],
   "source": [
    "data[\"SalePrice\"].groupby(data[\"Neighborhood\"]).median().sort_values()\n",
    "neighborhood_map = {\n",
    "        \"MeadowV\" : 0,  #  88000\n",
    "        \"IDOTRR\" : 1,   # 103000\n",
    "        \"BrDale\" : 1,   # 106000\n",
    "        \"OldTown\" : 1,  # 119000\n",
    "        \"Edwards\" : 1,  # 119500\n",
    "        \"BrkSide\" : 1,  # 124300\n",
    "        \"Sawyer\" : 1,   # 135000\n",
    "        \"Blueste\" : 1,  # 137500\n",
    "        \"SWISU\" : 2,    # 139500\n",
    "        \"NAmes\" : 2,    # 140000\n",
    "        \"NPkVill\" : 2,  # 146000\n",
    "        \"Mitchel\" : 2,  # 153500\n",
    "        \"SawyerW\" : 2,  # 179900\n",
    "        \"Gilbert\" : 2,  # 181000\n",
    "        \"NWAmes\" : 2,   # 182900\n",
    "        \"Blmngtn\" : 2,  # 191000\n",
    "        \"CollgCr\" : 2,  # 197200\n",
    "        \"ClearCr\" : 3,  # 200250\n",
    "        \"Crawfor\" : 3,  # 200624\n",
    "        \"Veenker\" : 3,  # 218000\n",
    "        \"Somerst\" : 3,  # 225500\n",
    "        \"Timber\" : 3,   # 228475\n",
    "        \"StoneBr\" : 4,  # 278000\n",
    "        \"NoRidge\" : 4,  # 290000\n",
    "        \"NridgHt\" : 4,  # 315000\n",
    "    }\n",
    "\n",
    "data[\"NeighborhoodBin\"] = data[\"Neighborhood\"].map(neighborhood_map)"
   ]
  },
  {
   "cell_type": "code",
   "execution_count": null,
   "metadata": {},
   "outputs": [],
   "source": [
    "train1 = data[0:1460]\n",
    "test1 = data[1460:]"
   ]
  },
  {
   "cell_type": "code",
   "execution_count": 25,
   "metadata": {},
   "outputs": [],
   "source": [
    "X = pd.read_csv(\"C:\\\\Users\\\\Polestar User\\\\Documents\\\\regression\\\\HousePriceFinal\\\\data2train.csv\")\n",
    "\n",
    "y = pd.read_csv('C:\\\\Users\\\\Polestar User\\\\Documents\\\\regression\\\\HousePriceFinal\\\\data2saleprice.csv')\n"
   ]
  },
  {
   "cell_type": "code",
   "execution_count": null,
   "metadata": {},
   "outputs": [],
   "source": [
    "################ Elastic #########################\n",
    "\n",
    "y = train[\"SalePrice\"].copy()\n",
    "y = np.log(y)\n",
    "\n",
    "X = train1\n",
    "\n",
    "ENSTest = linear_model.ElasticNetCV(alphas=[0.0001, 0.0005, 0.001, 0.01, 0.1, 1, 10], l1_ratio=[.01, .1, .5, .9, .99], cv=10,max_iter=5000).fit(X,y)\n",
    "\n",
    "predtest = ENSTest.predict(test1)\n",
    "predtest=np.exp(predtest)\n",
    "\n",
    "sub1 = pd.DataFrame()\n",
    "sub1['Id'] = test['Id']\n",
    "sub1['SalePrice'] = predtest\n",
    "sub1.to_csv('C:\\\\Users\\\\Polestar User\\\\Desktop\\\\finalsubmit\\\\data2elastic.csv',index=False)\n"
   ]
  },
  {
   "cell_type": "code",
   "execution_count": 8,
   "metadata": {},
   "outputs": [],
   "source": [
    "ENSTest = linear_model.ElasticNetCV(alphas=[0.0001, 0.0005, 0.001, 0.01, 0.1, 1, 10], l1_ratio=[.01, .1, .5, .9, .99], cv=10,max_iter=5000).fit(X,y)\n"
   ]
  },
  {
   "cell_type": "code",
   "execution_count": 9,
   "metadata": {},
   "outputs": [
    {
     "name": "stdout",
     "output_type": "stream",
     "text": [
      "ElasticNetCV(alphas=[0.0001, 0.0005, 0.001, 0.01, 0.1, 1, 10], copy_X=True,\n",
      "       cv=10, eps=0.001, fit_intercept=True,\n",
      "       l1_ratio=[0.01, 0.1, 0.5, 0.9, 0.99], max_iter=5000, n_alphas=100,\n",
      "       n_jobs=1, normalize=False, positive=False, precompute='auto',\n",
      "       random_state=None, selection='cyclic', tol=0.0001, verbose=0)\n",
      "R2: 0.9392174270209931\n",
      "RMSE: 0.09474306135584167\n",
      "Test\n",
      "R2: 0.9092503208670178\n",
      "RMSE: 0.1080338080750225\n"
     ]
    }
   ],
   "source": [
    "train_test(ENSTest, x_train, x_test, y_train, y_test)"
   ]
  },
  {
   "cell_type": "code",
   "execution_count": 26,
   "metadata": {},
   "outputs": [
    {
     "name": "stdout",
     "output_type": "stream",
     "text": [
      "Accuracy: 0.92 (+/- 0.01)\n"
     ]
    }
   ],
   "source": [
    "scores = cross_val_score(ENSTest, X, y, cv=5)\n",
    "print(\"Accuracy: %0.2f (+/- %0.2f)\" % (scores.mean(), scores.std() * 2))"
   ]
  },
  {
   "cell_type": "code",
   "execution_count": null,
   "metadata": {},
   "outputs": [],
   "source": [
    "#Score = 0.11783, Kaggle rank = 787"
   ]
  },
  {
   "cell_type": "code",
   "execution_count": null,
   "metadata": {},
   "outputs": [],
   "source": [
    "############## GBM ###############################\n",
    "\n",
    "GBest = ensemble.GradientBoostingRegressor(n_estimators=3000, learning_rate=0.05, max_depth=3, max_features='sqrt',\n",
    "                                               min_samples_leaf=15, min_samples_split=10, loss='huber').fit(X, y)\n",
    "\n",
    "predtest = GBest.predict(test1)\n",
    "predtest=np.exp(predtest)\n",
    "\n",
    "sub1 = pd.DataFrame()\n",
    "sub1['Id'] = test['Id']\n",
    "sub1['SalePrice'] = predtest\n",
    "sub1.to_csv('C:\\\\Users\\\\Polestar User\\\\Desktop\\\\finalsubmit\\\\data2GBM.csv',index=False)\n"
   ]
  },
  {
   "cell_type": "code",
   "execution_count": 10,
   "metadata": {},
   "outputs": [],
   "source": [
    "GBest = ensemble.GradientBoostingRegressor(n_estimators=3000, learning_rate=0.05, max_depth=3, max_features='sqrt',\n",
    "                                               min_samples_leaf=15, min_samples_split=10, loss='huber').fit(X, y)\n"
   ]
  },
  {
   "cell_type": "code",
   "execution_count": 13,
   "metadata": {},
   "outputs": [
    {
     "name": "stdout",
     "output_type": "stream",
     "text": [
      "GradientBoostingRegressor(alpha=0.9, criterion='friedman_mse', init=None,\n",
      "             learning_rate=0.05, loss='huber', max_depth=3,\n",
      "             max_features='sqrt', max_leaf_nodes=None,\n",
      "             min_impurity_decrease=0.0, min_impurity_split=None,\n",
      "             min_samples_leaf=15, min_samples_split=10,\n",
      "             min_weight_fraction_leaf=0.0, n_estimators=3000,\n",
      "             presort='auto', random_state=None, subsample=1.0, verbose=0,\n",
      "             warm_start=False)\n",
      "R2: 0.9793539993956283\n",
      "RMSE: 0.05555256013505683\n",
      "Test\n",
      "R2: 0.9638774071730726\n",
      "RMSE: 0.06829965450172118\n"
     ]
    }
   ],
   "source": [
    "train_test(GBest, x_train, x_test, y_train, y_test)"
   ]
  },
  {
   "cell_type": "code",
   "execution_count": 27,
   "metadata": {},
   "outputs": [
    {
     "name": "stdout",
     "output_type": "stream",
     "text": [
      "Accuracy: 0.92 (+/- 0.01)\n"
     ]
    }
   ],
   "source": [
    "scores = cross_val_score(GBest, X, y, cv=5)\n",
    "print(\"Accuracy: %0.2f (+/- %0.2f)\" % (scores.mean(), scores.std() * 2))"
   ]
  },
  {
   "cell_type": "code",
   "execution_count": null,
   "metadata": {},
   "outputs": [],
   "source": [
    "#Score = 0.12283, Kaggle rank = 787"
   ]
  },
  {
   "cell_type": "code",
   "execution_count": null,
   "metadata": {},
   "outputs": [],
   "source": [
    "############# Stacking #########################\n",
    "\n",
    "GB_model = GBest.fit(X, y)\n",
    "ENST_model = ENSTest.fit(X, y)\n",
    "\n",
    "\n",
    "Final_labels = (np.exp(GB_model.predict(test1)) + np.exp(ENST_model.predict(test1))) / 2\n",
    "\n",
    "sub1 = pd.DataFrame()\n",
    "sub1['Id'] = test['Id']\n",
    "sub1['SalePrice'] = Final_labels\n",
    "sub1.to_csv('C:\\\\Users\\\\Polestar User\\\\Desktop\\\\finalsubmit\\\\data2stack.csv',index=False)\n",
    "\n"
   ]
  },
  {
   "cell_type": "code",
   "execution_count": null,
   "metadata": {},
   "outputs": [],
   "source": [
    "#Score = 0.11488 , Kaggle rank = 283"
   ]
  }
 ],
 "metadata": {
  "kernelspec": {
   "display_name": "Python 3",
   "language": "python",
   "name": "python3"
  },
  "language_info": {
   "codemirror_mode": {
    "name": "ipython",
    "version": 3
   },
   "file_extension": ".py",
   "mimetype": "text/x-python",
   "name": "python",
   "nbconvert_exporter": "python",
   "pygments_lexer": "ipython3",
   "version": "3.6.5"
  }
 },
 "nbformat": 4,
 "nbformat_minor": 2
}
